{
 "cells": [
  {
   "cell_type": "code",
   "execution_count": 39,
   "id": "eed75a70",
   "metadata": {},
   "outputs": [],
   "source": [
    "import numpy as np\n",
    "import matplotlib.pyplot as plt\n",
    "import astropy.units as u"
   ]
  },
  {
   "cell_type": "code",
   "execution_count": 41,
   "id": "b77b4c0c",
   "metadata": {},
   "outputs": [],
   "source": [
    "mass_range = (0.8,100)\n",
    "n_stars = 100000\n",
    "age_max = 10 #Gyr age of Milky Way"
   ]
  },
  {
   "cell_type": "code",
   "execution_count": 42,
   "id": "ddba16c6",
   "metadata": {},
   "outputs": [],
   "source": [
    "#IMF kroupa parameters\n",
    "alpha_0 = 0.3\n",
    "alpha_1 = 1.3\n",
    "alpha_2 = 2.3"
   ]
  },
  {
   "cell_type": "code",
   "execution_count": 43,
   "id": "22b6fdab",
   "metadata": {},
   "outputs": [],
   "source": [
    "#Usando el metodo de Montecarlo generaremos masas random usando la imf de kroupa.\n",
    "def simulated_mass(n_stars,mass_range,a):\n",
    "    max_i,min_i = mass_range\n",
    "    mass= ((max_i**(1.0 - a) - min_i**(1.0 - a)) * np.random.random(n_stars) + min_i**(1.0 - a))**(1.0 / (1.0 - a))\n",
    "    return mass"
   ]
  },
  {
   "cell_type": "code",
   "execution_count": 44,
   "id": "05457e45",
   "metadata": {},
   "outputs": [],
   "source": [
    " def mass_age(n_stars,age_max):\n",
    "    return np.random.uniform(0,age_max, n_stars)"
   ]
  },
  {
   "cell_type": "code",
   "execution_count": 45,
   "id": "f171c4c5",
   "metadata": {},
   "outputs": [],
   "source": [
    "def simulated_masses_2(n_stars,mass_range,age_max):\n",
    "    \n",
    "    #segments\n",
    "    M1 = (0,0.8)\n",
    "    M2 = (0.8,0.5)\n",
    "    M3 = (0.5,100)\n",
    "    \n",
    "    # We calculate the normalized weights for each segment of imf kroupa (for calculate the probability per each segment)\n",
    "    b1 = ((M1[1]**(1.0 - alpha_0) - M1[0]**(1.0 - alpha_0)) / (1.0 - alpha_0))\n",
    "    b2 = ((M2[1]**(1.0 - alpha_1) - M2[0]**(1.0 - alpha_1)) / (1.0 - alpha_1))\n",
    "    b3 = ((M3[1]**(1.0 - alpha_2) - M3[0]**(1.0 - alpha_2)) / (1.0 - alpha_2))\n",
    "    Wt = b1 +b2 + b3\n",
    "\n",
    "    #En cada uno de los segmentos habrá una cantidad de estrellas y las calcularemos dependiendo de la probabilidad de estar en esa banda.\n",
    "    n_1 = np.random.binomial(n_stars,b1/Wt)\n",
    "    n_2 = np.random.binomial(n_stars-n_1, abs(b2/Wt))\n",
    "    n_3 = n_stars - (n_2 +n_1)\n",
    "\n",
    "    #Para asignarle una edad a cada masa usaremos la siguiente función:\n",
    "    masses = np.array(list(simulated_mass(n_1,M1,alpha_0)) + list(simulated_mass(n_2,M2,alpha_1))+list(simulated_mass(n_3,M3,alpha_2)))\n",
    "\n",
    "    objects = []\n",
    "    for mass in masses:\n",
    "        age = mass_age(n_stars,age_max)\n",
    "        objects.append((mass,age))\n",
    "    return objects"
   ]
  },
  {
   "cell_type": "code",
   "execution_count": null,
   "id": "2ba63ed9",
   "metadata": {},
   "outputs": [],
   "source": [
    "main_seq_stars = []\n",
    "white_dwarfs = []\n",
    "neutron_stars = []\n",
    "black_holes = []\n",
    "\n",
    "objects = simulated_masses_2(n_stars,mass_range,age_max)\n",
    "\n",
    "for masa, age in objects:\n",
    "    if masa < 1.5:\n",
    "        main_seq_stars.append((masa, age))\n",
    "    elif masa < 8.0:\n",
    "        white_dwarfs.append((masa, age))\n",
    "    elif 8.0 <= masa < 20.0:\n",
    "        neutron_stars.append((masa, age))\n",
    "    elif masa > 20.0:\n",
    "        black_holes.append((masa, age))\n"
   ]
  },
  {
   "cell_type": "code",
   "execution_count": 37,
   "id": "6aa17c49",
   "metadata": {},
   "outputs": [
    {
     "data": {
      "image/png": "[encoded data removed]",
      "text/plain": [
       "<Figure size 432x288 with 1 Axes>"
      ]
     },
     "metadata": {
      "needs_background": "light"
     },
     "output_type": "display_data"
    },
    {
     "data": {
      "image/png": "[encoded data removed]",
      "text/plain": [
       "<Figure size 432x288 with 1 Axes>"
      ]
     },
     "metadata": {
      "needs_background": "light"
     },
     "output_type": "display_data"
    }
   ],
   "source": [
    "plt.hist([masa for masa, age in objects], bins=1000, label='All')\n",
    "plt.legend()\n",
    "plt.show()\n",
    "\n",
    "plt.hist([masa for masa, age in main_seq_stars], bins=1000, label='Main Sequence')\n",
    "plt.hist([masa for masa, age in black_holes], bins=1000, label='black_holes')\n",
    "plt.hist([masa for masa, age in neutron_stars], bins=1000, label='neutron_stars')\n",
    "plt.hist([masa for masa, age in white_dwarfs], bins=1000, label='white_dwarfs')\n",
    "plt.xscale(\"log\")\n",
    "plt.yscale(\"log\")\n",
    "plt.xlabel('Mass')\n",
    "plt.ylabel('Count')\n",
    "plt.legend()\n",
    "plt.show()"
   ]
  },
  {
   "cell_type": "code",
   "execution_count": 38,
   "id": "cad536ff",
   "metadata": {},
   "outputs": [
    {
     "name": "stdout",
     "output_type": "stream",
     "text": [
      "Main sequence fraction: 0.9026\n",
      "White dwarf fraction: 0.088\n",
      "Neutron stars fraction: 0.0073\n",
      "Black holes fraction: 0.0021\n"
     ]
    }
   ],
   "source": [
    "# Calculate and print fractions\n",
    "n=len(objects)\n",
    "main_seq_fraction = len(main_seq_stars) / n\n",
    "white_dwarf_fraction = len(white_dwarfs) / n\n",
    "neutron_star_fraction = len(neutron_stars) / n\n",
    "black_hole_fraction = len(black_holes) / n\n",
    "\n",
    "print(\"Main sequence fraction: \"+str(main_seq_fraction))\n",
    "print(\"White dwarf fraction: \"+str(white_dwarf_fraction))\n",
    "print(\"Neutron stars fraction: \"+str(neutron_star_fraction))\n",
    "print(\"Black holes fraction: \"+str(black_hole_fraction))"
   ]
  },
  {
   "cell_type": "code",
   "execution_count": null,
   "id": "0df1eebb",
   "metadata": {},
   "outputs": [],
   "source": []
  }
 ],
 "metadata": {
  "kernelspec": {
   "display_name": "Python 3 (ipykernel)",
   "language": "python",
   "name": "python3"
  },
  "language_info": {
   "codemirror_mode": {
    "name": "ipython",
    "version": 3
   },
   "file_extension": ".py",
   "mimetype": "text/x-python",
   "name": "python",
   "nbconvert_exporter": "python",
   "pygments_lexer": "ipython3",
   "version": "3.10.5"
  }
 },
 "nbformat": 4,
 "nbformat_minor": 5
}
